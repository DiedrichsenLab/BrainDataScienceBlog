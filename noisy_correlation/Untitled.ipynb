{
 "cells": [
  {
   "cell_type": "markdown",
   "id": "594979d5",
   "metadata": {},
   "source": [
    "# Estimating the true correlations between activity patterns\n"
   ]
  },
  {
   "cell_type": "code",
   "execution_count": 1,
   "id": "a5f43e82",
   "metadata": {},
   "outputs": [],
   "source": [
    "import numpy as np \n",
    "import PcmPy as pcm\n",
    "%load_ext autoreload\n",
    "%autoreload 2"
   ]
  },
  {
   "cell_type": "markdown",
   "id": "9c13b4fb",
   "metadata": {},
   "source": [
    "First look at the problem of simply using the correlation between two measured activty patterns. \n",
    "We will use here the simulation module of the pcm toolbox to generate our data... "
   ]
  },
  {
   "cell_type": "code",
   "execution_count": 2,
   "id": "c2f3dbc8",
   "metadata": {},
   "outputs": [],
   "source": [
    "M = pcm.CorrelationModel('corr',num_items=1,corr=0.7)"
   ]
  },
  {
   "cell_type": "code",
   "execution_count": 3,
   "id": "69f61367",
   "metadata": {},
   "outputs": [
    {
     "data": {
      "text/plain": [
       "array([[[1., 0.],\n",
       "        [0., 0.]],\n",
       "\n",
       "       [[0., 0.],\n",
       "        [0., 1.]]])"
      ]
     },
     "execution_count": 3,
     "metadata": {},
     "output_type": "execute_result"
    }
   ],
   "source": [
    "M.Gc"
   ]
  },
  {
   "cell_type": "code",
   "execution_count": 4,
   "id": "7221bb96",
   "metadata": {},
   "outputs": [],
   "source": [
    "G,dG = M.predict([0,-0.5,1])"
   ]
  },
  {
   "cell_type": "code",
   "execution_count": 5,
   "id": "e12ec987",
   "metadata": {},
   "outputs": [
    {
     "data": {
      "text/plain": [
       "array([[1.        , 0.54516055],\n",
       "       [0.54516055, 0.60653066]])"
      ]
     },
     "execution_count": 5,
     "metadata": {},
     "output_type": "execute_result"
    }
   ],
   "source": [
    "G"
   ]
  },
  {
   "cell_type": "code",
   "execution_count": null,
   "id": "6dd39cd9",
   "metadata": {},
   "outputs": [],
   "source": []
  }
 ],
 "metadata": {
  "kernelspec": {
   "display_name": "Python 3",
   "language": "python",
   "name": "python3"
  },
  "language_info": {
   "codemirror_mode": {
    "name": "ipython",
    "version": 3
   },
   "file_extension": ".py",
   "mimetype": "text/x-python",
   "name": "python",
   "nbconvert_exporter": "python",
   "pygments_lexer": "ipython3",
   "version": "3.8.5"
  }
 },
 "nbformat": 4,
 "nbformat_minor": 5
}
